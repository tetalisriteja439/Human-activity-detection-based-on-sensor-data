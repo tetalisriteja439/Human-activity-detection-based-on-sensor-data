{
 "cells": [
  {
   "cell_type": "markdown",
   "id": "e288cb7a",
   "metadata": {},
   "source": [
    "## Importing Required Modules and Loading the Data"
   ]
  },
  {
   "cell_type": "code",
   "execution_count": null,
   "id": "048fea6a",
   "metadata": {
    "colab": {
     "base_uri": "https://localhost:8080/",
     "height": 206
    },
    "id": "048fea6a",
    "outputId": "e701add6-13e9-4d00-8261-7878612d2859",
    "scrolled": true
   },
   "outputs": [],
   "source": [
    "import pandas as pd\n",
    "import matplotlib.pyplot as plt\n",
    "from sklearn.metrics import classification_report\n",
    "from pprint import pprint\n",
    "import seaborn as sns\n",
    "df=pd.read_csv('./data.csv')\n",
    "df.head(5)"
   ]
  },
  {
   "cell_type": "markdown",
   "id": "9b4ca678",
   "metadata": {
    "id": "9b4ca678"
   },
   "source": [
    "#### The dataset has features named like alx, gry etc. These can be read as\n",
    "a: accelerometer<br>\n",
    "g: gyroscope<br>\n",
    "l: left ankle<br>\n",
    "r: right wrist<br>\n",
    "x: digital value of the analog movement captured in the x-direction<br>\n",
    "y: digital value of the analog movement captured in the y-direction<br>\n",
    "z: digital value of the analog movement captured in the z-direction"
   ]
  },
  {
   "cell_type": "markdown",
   "id": "41d4286c",
   "metadata": {
    "id": "41d4286c"
   },
   "source": [
    "#### Subject referes to the person on which the data has been captured. There are a total of 10 subjects according to this dataset"
   ]
  },
  {
   "cell_type": "markdown",
   "id": "161a53e8",
   "metadata": {
    "id": "161a53e8"
   },
   "source": [
    "###  Activity is a Categorical Feature, following are its corresponding categories\n",
    "0 indicates None<br>\n",
    "    1 indicates Standing still<br>\n",
    "    2 indicates Sitting and relaxing<br>\n",
    "    3 indicates Lying down<br>\n",
    "    4 indicates Walking<br>\n",
    "    5 indicates Climbing stairs<br>\n",
    "    6 indicates Waist bends forward <br>\n",
    "    7 indicates Frontal elevation of arms <br>\n",
    "    8 indicates Knees bending (crouching) <br>\n",
    "    9 indicates Cycling<br>\n",
    "    10 indicates Jogging<br>\n",
    "    11 indicates Running<br>\n",
    "    12 indicates Jump front & back "
   ]
  },
  {
   "cell_type": "code",
   "execution_count": null,
   "id": "023bbe9e",
   "metadata": {
    "colab": {
     "base_uri": "https://localhost:8080/"
    },
    "id": "023bbe9e",
    "outputId": "ae029101-cda1-4591-df57-c1df7ca34a65"
   },
   "outputs": [],
   "source": [
    "df.info()"
   ]
  },
  {
   "cell_type": "code",
   "execution_count": null,
   "id": "8a79b16e",
   "metadata": {
    "colab": {
     "base_uri": "https://localhost:8080/",
     "height": 364
    },
    "id": "8a79b16e",
    "outputId": "42d4f7dc-ccd9-4650-a7c1-6459bf317553"
   },
   "outputs": [],
   "source": [
    "df.describe()"
   ]
  },
  {
   "cell_type": "markdown",
   "id": "c21e83a9",
   "metadata": {
    "id": "c21e83a9"
   },
   "source": [
    "#### List of Number of NaN/Null values in each column"
   ]
  },
  {
   "cell_type": "code",
   "execution_count": null,
   "id": "185febc3",
   "metadata": {
    "colab": {
     "base_uri": "https://localhost:8080/"
    },
    "id": "185febc3",
    "outputId": "4637cf46-2c31-47c4-d108-7c8941a82f23"
   },
   "outputs": [],
   "source": [
    "df.isnull().sum()"
   ]
  },
  {
   "cell_type": "markdown",
   "id": "0355e1a7",
   "metadata": {
    "id": "0355e1a7"
   },
   "source": [
    "## Dataset Analysis"
   ]
  },
  {
   "cell_type": "markdown",
   "id": "be7662c8",
   "metadata": {
    "id": "be7662c8"
   },
   "source": [
    "### Bar Plot describing the Number of values pertaining to each activity"
   ]
  },
  {
   "cell_type": "code",
   "execution_count": null,
   "id": "fdbf4858",
   "metadata": {
    "colab": {
     "base_uri": "https://localhost:8080/",
     "height": 497
    },
    "id": "fdbf4858",
    "outputId": "88332ecd-f9de-4179-e07e-ace6dcc76dcb",
    "scrolled": false
   },
   "outputs": [],
   "source": [
    "plt.figure(figsize=(10,8))\n",
    "sns.countplot(x='Activity', data=df)\n",
    "plt.show()"
   ]
  },
  {
   "cell_type": "markdown",
   "id": "b858782c",
   "metadata": {},
   "source": [
    "## Visualising the Target Label - Activity"
   ]
  },
  {
   "cell_type": "code",
   "execution_count": null,
   "id": "1fff56f3",
   "metadata": {
    "colab": {
     "base_uri": "https://localhost:8080/",
     "height": 483
    },
    "id": "1fff56f3",
    "outputId": "e56270e5-4a4f-4f91-c6f3-67c16ccf025f"
   },
   "outputs": [],
   "source": [
    "plt.figure(figsize=(12,8))\n",
    "round(df[\"Activity\"].value_counts()/df.shape[0]*100,2).plot.pie(autopct= '%2.1f%%')"
   ]
  },
  {
   "cell_type": "markdown",
   "id": "bee96abc",
   "metadata": {
    "id": "bee96abc"
   },
   "source": [
    "### From the above, it is clearly observed that \"activity\" feature is highly oversampled for Activity 0."
   ]
  },
  {
   "cell_type": "code",
   "execution_count": null,
   "id": "ecdd7c02",
   "metadata": {
    "colab": {
     "base_uri": "https://localhost:8080/"
    },
    "id": "ecdd7c02",
    "outputId": "d2c846ec-e8af-4b9a-9fd9-34a1c9fb2ca7"
   },
   "outputs": [],
   "source": [
    "df['Activity'].value_counts()"
   ]
  },
  {
   "cell_type": "code",
   "execution_count": null,
   "id": "7414e159",
   "metadata": {
    "colab": {
     "base_uri": "https://localhost:8080/",
     "height": 282
    },
    "id": "7414e159",
    "outputId": "4f564360-5805-4bd8-90c4-4dbefd017f34"
   },
   "outputs": [],
   "source": [
    "sns.violinplot(data=df['Activity'])"
   ]
  },
  {
   "cell_type": "markdown",
   "id": "fb9c8a77",
   "metadata": {
    "id": "fb9c8a77"
   },
   "source": [
    "### Re-Sampling of Activity Column to bring uniformity for all categories of activities"
   ]
  },
  {
   "cell_type": "code",
   "execution_count": null,
   "id": "d6fdfcf4",
   "metadata": {
    "id": "d6fdfcf4"
   },
   "outputs": [],
   "source": [
    "activity_0 = df[df['Activity'] == 0]\n",
    "activity_non_zero = df[df['Activity'] != 0]\n",
    "\n",
    "activity_0 = activity_0.sample(n=45000, random_state=7)\n",
    "df = pd.concat([activity_0, activity_non_zero])"
   ]
  },
  {
   "cell_type": "code",
   "execution_count": null,
   "id": "e69cbc15",
   "metadata": {
    "colab": {
     "base_uri": "https://localhost:8080/"
    },
    "id": "e69cbc15",
    "outputId": "2be516e1-4a3e-4e3e-9c56-e5cf889b1953"
   },
   "outputs": [],
   "source": [
    "df['Activity'].value_counts()"
   ]
  },
  {
   "cell_type": "code",
   "execution_count": null,
   "id": "4528a21e",
   "metadata": {
    "colab": {
     "base_uri": "https://localhost:8080/",
     "height": 483
    },
    "id": "4528a21e",
    "outputId": "67fe5684-c570-438b-a928-7504c079c009"
   },
   "outputs": [],
   "source": [
    "plt.figure(figsize=(12,8))\n",
    "round(df[\"Activity\"].value_counts()/df.shape[0]*100,2).plot.pie(autopct= '%2.1f%%')"
   ]
  },
  {
   "cell_type": "markdown",
   "id": "be9ffdf7",
   "metadata": {},
   "source": [
    "### As a result of sampling, there is a balance among the categories of the Activity Feature"
   ]
  },
  {
   "cell_type": "markdown",
   "id": "b2ef0dbb",
   "metadata": {
    "id": "b2ef0dbb"
   },
   "source": [
    "### Correlation Heatmap of all the features in the dataset"
   ]
  },
  {
   "cell_type": "code",
   "execution_count": null,
   "id": "a96d02ce",
   "metadata": {
    "colab": {
     "base_uri": "https://localhost:8080/",
     "height": 884
    },
    "id": "a96d02ce",
    "outputId": "e52865e0-c006-48ec-f646-d731fd293a03"
   },
   "outputs": [],
   "source": [
    "import seaborn as sns\n",
    "plt.figure(figsize = (15,15))\n",
    "sns.heatmap(df.corr(), annot = True)"
   ]
  },
  {
   "cell_type": "markdown",
   "id": "7a4a25f2",
   "metadata": {},
   "source": [
    "## Histogram for each column to understand the distribution of values"
   ]
  },
  {
   "cell_type": "code",
   "execution_count": null,
   "id": "fa938a50",
   "metadata": {
    "colab": {
     "base_uri": "https://localhost:8080/",
     "height": 1000
    },
    "id": "fa938a50",
    "outputId": "72c25811-ad8c-423f-dc23-073b80b7f0a7",
    "scrolled": false
   },
   "outputs": [],
   "source": [
    "for i in df.columns:\n",
    "    sns.histplot(df[i])\n",
    "    plt.title(i)\n",
    "    plt.show()"
   ]
  },
  {
   "cell_type": "markdown",
   "id": "3943b3de",
   "metadata": {
    "id": "3943b3de"
   },
   "source": [
    "### Plots that visualize the sensor data in a more interactive way"
   ]
  },
  {
   "cell_type": "code",
   "execution_count": null,
   "id": "02fe6317",
   "metadata": {
    "colab": {
     "base_uri": "https://localhost:8080/",
     "height": 1000
    },
    "id": "02fe6317",
    "outputId": "6e65839e-2054-4db9-f1d6-22a3a4c232f8",
    "scrolled": false
   },
   "outputs": [],
   "source": [
    "import plotly.graph_objects as go\n",
    "\n",
    "activity = [\"None,\",\"Standing_still\",\"Sitting_and_relaxing\",\"Lying_down\",\"Walking\",\"Climbing_stairs\",\"Waist_bends_forward\",\"Frontal_elevation_of_arms\",\"Knees_bending_(crouching)\",\"Cycling\",\"Jogging\",\"Running\",\" Jump_front_&_back\"]\n",
    "sensors = ['accelerometer', 'gyro']\n",
    "\n",
    "for i in range(1, 13):\n",
    "    for s in sensors:\n",
    "        print(activity[i] + \" - \" + s)\n",
    "        fig = go.Figure()\n",
    "        \n",
    "        fig.add_trace(go.Scatter(x=df[df['Activity']==i].reset_index(drop=True).index, y=df[df['Activity']==i].reset_index(drop=True)[s[0] + 'lx'], name=s[0] + 'lx', line=dict(color='red', width=2)))\n",
    "        fig.add_trace(go.Scatter(x=df[df['Activity']==i].reset_index(drop=True).index, y=df[df['Activity']==i].reset_index(drop=True)[s[0] + 'ly'], name=s[0] + 'ly', line=dict(color='green', width=2)))\n",
    "        fig.add_trace(go.Scatter(x=df[df['Activity']==i].reset_index(drop=True).index, y=df[df['Activity']==i].reset_index(drop=True)[s[0] + 'lz'], name=s[0] + 'lz', line=dict(color='blue', width=2)))\n",
    "        fig.update_layout(title_text='Left ankle sensor')\n",
    "        fig.show()\n",
    "        \n",
    "        fig = go.Figure()\n",
    "        fig.add_trace(go.Scatter(x=df[df['Activity']==i].reset_index(drop=True).index, y=df[df['Activity']==i].reset_index(drop=True)[s[0] + 'rx'], name=s[0] + 'rx', line=dict(color='red', width=2)))\n",
    "        fig.add_trace(go.Scatter(x=df[df['Activity']==i].reset_index(drop=True).index, y=df[df['Activity']==i].reset_index(drop=True)[s[0] + 'ry'], name=s[0] + 'ry', line=dict(color='green', width=2)))\n",
    "        fig.add_trace(go.Scatter(x=df[df['Activity']==i].reset_index(drop=True).index, y=df[df['Activity']==i].reset_index(drop=True)[s[0] + 'rz'], name=s[0] + 'rz', line=dict(color='blue', width=2)))\n",
    "        fig.update_layout(title_text='Right wrist sensor')\n",
    "        fig.show()\n"
   ]
  },
  {
   "cell_type": "markdown",
   "id": "d93eb264",
   "metadata": {
    "id": "d93eb264"
   },
   "source": [
    "#### From the above plots, activities involving high movement of Leg/Wrist have spikes and drops in the measurments which is a clear indication of rigorous movements. "
   ]
  },
  {
   "cell_type": "markdown",
   "id": "926a4361",
   "metadata": {
    "id": "926a4361"
   },
   "source": [
    "### Understanding the Distribution of Each of the activity data recorded by the sensor using Histograms"
   ]
  },
  {
   "cell_type": "code",
   "execution_count": null,
   "id": "9c89c1b0",
   "metadata": {
    "colab": {
     "base_uri": "https://localhost:8080/",
     "height": 1000
    },
    "id": "9c89c1b0",
    "outputId": "a4bab9ab-53c2-49af-cacf-f5c03db0f51f",
    "scrolled": false
   },
   "outputs": [],
   "source": [
    "\n",
    "import plotly.subplots as sp\n",
    "\n",
    "figs = []\n",
    "for i in range(1, 13):\n",
    "    for s in sensors:\n",
    "        fig = sp.make_subplots(rows=1, cols=2, \n",
    "                               subplot_titles=[\"Left ankle sensor ({})\".format(s), \"Right wrist sensor ({})\".format(s)], \n",
    "                               shared_yaxes=True)\n",
    "        fig.add_trace(\n",
    "            go.Histogram(x=df[df['Activity']==i].reset_index(drop=True)[s[0] + 'lx'], \n",
    "                         histnorm='probability density',\n",
    "                         name=s[0] + 'lx',\n",
    "                         marker_color='red'),\n",
    "            row=1, col=1\n",
    "        )\n",
    "        fig.add_trace(\n",
    "            go.Histogram(x=df[df['Activity']==i].reset_index(drop=True)[s[0] + 'ly'], \n",
    "                         histnorm='probability density',\n",
    "                         name=s[0] + 'ly',\n",
    "                         marker_color='green'),\n",
    "            row=1, col=1\n",
    "        )\n",
    "        fig.add_trace(\n",
    "            go.Histogram(x=df[df['Activity']==i].reset_index(drop=True)[s[0] + 'lz'], \n",
    "                         histnorm='probability density',\n",
    "                         name=s[0] + 'lz',\n",
    "                         marker_color='blue'),\n",
    "            row=1, col=1\n",
    "        )\n",
    "        fig.add_trace(\n",
    "            go.Histogram(x=df[df['Activity']==i].reset_index(drop=True)[s[0] + 'rx'], \n",
    "                         histnorm='probability density',\n",
    "                         name=s[0] + 'rx',\n",
    "                         marker_color='red'),\n",
    "            row=1, col=2\n",
    "        )\n",
    "        fig.add_trace(\n",
    "            go.Histogram(x=df[df['Activity']==i].reset_index(drop=True)[s[0] + 'ry'], \n",
    "                         histnorm='probability density',\n",
    "                         name=s[0] + 'ry',\n",
    "                         marker_color='green'),\n",
    "            row=1, col=2\n",
    "        )\n",
    "        fig.add_trace(\n",
    "            go.Histogram(x=df[df['Activity']==i].reset_index(drop=True)[s[0] + 'rz'], \n",
    "                         histnorm='probability density',\n",
    "                         name=s[0] + 'rz',\n",
    "                         marker_color='blue'),\n",
    "            row=1, col=2\n",
    "        )\n",
    "        fig.update_layout(title_text=activity[i])\n",
    "        figs.append(fig)\n",
    "\n",
    "for fig in figs:\n",
    "    fig.show()\n"
   ]
  },
  {
   "cell_type": "markdown",
   "id": "9d2dddb0",
   "metadata": {
    "id": "9d2dddb0"
   },
   "source": [
    "#### Most of the data seems to have a near to normal distribution (bell-curve), which is really advantageous for developing an efficient model to predict the human activity"
   ]
  },
  {
   "cell_type": "markdown",
   "id": "53c044d9",
   "metadata": {},
   "source": [
    "## Seperating Dependent and Independent (Target variable) from the dataframe"
   ]
  },
  {
   "cell_type": "code",
   "execution_count": null,
   "id": "be86af33",
   "metadata": {
    "id": "be86af33"
   },
   "outputs": [],
   "source": [
    "temp=df.columns[-1]\n",
    "df['Activity_']=df['Activity']\n",
    "df.drop(columns=['Activity','subject'],inplace=True)"
   ]
  },
  {
   "cell_type": "code",
   "execution_count": null,
   "id": "44b111da",
   "metadata": {
    "id": "44b111da"
   },
   "outputs": [],
   "source": [
    "x=df.iloc[:,:-1]\n",
    "y=df['Activity_']"
   ]
  },
  {
   "cell_type": "code",
   "execution_count": null,
   "id": "743562fb",
   "metadata": {
    "id": "743562fb"
   },
   "outputs": [],
   "source": [
    "import numpy as np\n",
    "x=np.array(x)\n",
    "y=np.array(y)"
   ]
  },
  {
   "cell_type": "markdown",
   "id": "39b9c970",
   "metadata": {
    "id": "39b9c970"
   },
   "source": [
    "### Performing Train Test Split"
   ]
  },
  {
   "cell_type": "code",
   "execution_count": null,
   "id": "31dc83aa",
   "metadata": {
    "id": "31dc83aa"
   },
   "outputs": [],
   "source": [
    "from sklearn.model_selection import train_test_split\n",
    "x_train,x_test,y_train,y_test=train_test_split(x,y,test_size=0.2,random_state=7)"
   ]
  },
  {
   "cell_type": "markdown",
   "id": "5f1e71af",
   "metadata": {
    "id": "5f1e71af"
   },
   "source": [
    "### Scaling using Standard Scaler"
   ]
  },
  {
   "cell_type": "code",
   "execution_count": null,
   "id": "579a45b3",
   "metadata": {
    "id": "579a45b3"
   },
   "outputs": [],
   "source": [
    "from sklearn.preprocessing import StandardScaler    \n",
    "s= StandardScaler()    \n",
    "x_train= s.fit_transform(x_train)    \n",
    "x_test= s.transform(x_test) "
   ]
  },
  {
   "cell_type": "markdown",
   "id": "b8f5e9e2",
   "metadata": {
    "id": "b8f5e9e2"
   },
   "source": [
    "### Logistic Regression Model"
   ]
  },
  {
   "cell_type": "code",
   "execution_count": null,
   "id": "f9857d0d",
   "metadata": {
    "colab": {
     "base_uri": "https://localhost:8080/",
     "height": 248
    },
    "id": "f9857d0d",
    "outputId": "7feca3b9-2d12-4a16-d688-1da389eea4ad"
   },
   "outputs": [],
   "source": [
    "from sklearn.linear_model import LogisticRegression\n",
    "l=LogisticRegression()\n",
    "l.fit(x_train,y_train)"
   ]
  },
  {
   "cell_type": "code",
   "execution_count": null,
   "id": "29aeeb7b",
   "metadata": {
    "colab": {
     "base_uri": "https://localhost:8080/"
    },
    "id": "29aeeb7b",
    "outputId": "c2e7da9b-6b11-4aec-d7f4-57a71944094a"
   },
   "outputs": [],
   "source": [
    "l.score(x_test,y_test)"
   ]
  },
  {
   "cell_type": "code",
   "execution_count": null,
   "id": "1b7ce138",
   "metadata": {
    "colab": {
     "base_uri": "https://localhost:8080/"
    },
    "id": "1b7ce138",
    "outputId": "6e8f494d-b1ac-4d9f-f88f-ff82061f98a8"
   },
   "outputs": [],
   "source": [
    "pprint(classification_report(y_test,l.predict(x_test)))"
   ]
  },
  {
   "cell_type": "markdown",
   "id": "a62189b5",
   "metadata": {
    "id": "a62189b5"
   },
   "source": [
    "### KNN Model"
   ]
  },
  {
   "cell_type": "code",
   "execution_count": null,
   "id": "5eb6deb8",
   "metadata": {
    "id": "5eb6deb8"
   },
   "outputs": [],
   "source": [
    "from sklearn.neighbors import KNeighborsClassifier"
   ]
  },
  {
   "cell_type": "code",
   "execution_count": null,
   "id": "9f597d2e",
   "metadata": {
    "colab": {
     "base_uri": "https://localhost:8080/",
     "height": 74
    },
    "id": "9f597d2e",
    "outputId": "76d1aac7-226b-426b-c6bc-f6b252a2035e"
   },
   "outputs": [],
   "source": [
    "classifier= KNeighborsClassifier(n_neighbors=5, p=2 )  \n",
    "classifier.fit(x_train, y_train) "
   ]
  },
  {
   "cell_type": "code",
   "execution_count": null,
   "id": "94ad850a",
   "metadata": {
    "colab": {
     "base_uri": "https://localhost:8080/"
    },
    "id": "94ad850a",
    "outputId": "bdd77cdf-e773-4475-f786-8fc551406be2",
    "scrolled": true
   },
   "outputs": [],
   "source": [
    "classifier.score(x_test,y_test)"
   ]
  },
  {
   "cell_type": "code",
   "execution_count": null,
   "id": "a76f9c2f",
   "metadata": {
    "colab": {
     "base_uri": "https://localhost:8080/"
    },
    "id": "a76f9c2f",
    "outputId": "f23e8226-7f20-404b-8ac6-296b3f49370c"
   },
   "outputs": [],
   "source": [
    "from pprint import pprint\n",
    "pprint(classification_report(y_test,classifier.predict(x_test)))"
   ]
  },
  {
   "cell_type": "markdown",
   "id": "e8722b9f",
   "metadata": {
    "id": "e8722b9f"
   },
   "source": [
    "### Random Forest"
   ]
  },
  {
   "cell_type": "code",
   "execution_count": null,
   "id": "cb5e2d86",
   "metadata": {
    "id": "cb5e2d86"
   },
   "outputs": [],
   "source": [
    "from sklearn.ensemble import RandomForestClassifier"
   ]
  },
  {
   "cell_type": "code",
   "execution_count": null,
   "id": "d86b1277",
   "metadata": {
    "id": "d86b1277"
   },
   "outputs": [],
   "source": [
    "m = RandomForestClassifier()"
   ]
  },
  {
   "cell_type": "code",
   "execution_count": null,
   "id": "e608620c",
   "metadata": {
    "colab": {
     "base_uri": "https://localhost:8080/",
     "height": 74
    },
    "id": "e608620c",
    "outputId": "9a6b3efc-13e3-4b50-c714-1c11baebab80"
   },
   "outputs": [],
   "source": [
    "m.fit(x_train,y_train)"
   ]
  },
  {
   "cell_type": "code",
   "execution_count": null,
   "id": "5cbeedf6",
   "metadata": {
    "colab": {
     "base_uri": "https://localhost:8080/"
    },
    "id": "5cbeedf6",
    "outputId": "21996aa9-4d97-4e74-88ba-aaf9d767b6b6"
   },
   "outputs": [],
   "source": [
    "m.score(x_test,y_test)"
   ]
  },
  {
   "cell_type": "code",
   "execution_count": null,
   "id": "01f136c5",
   "metadata": {
    "colab": {
     "base_uri": "https://localhost:8080/"
    },
    "id": "01f136c5",
    "outputId": "cbcf30f1-ffa8-4863-e9cb-7ae65f19fe5d"
   },
   "outputs": [],
   "source": [
    "pprint(classification_report(y_test,m.predict(x_test)))"
   ]
  },
  {
   "cell_type": "markdown",
   "id": "7b1a6876",
   "metadata": {
    "id": "7b1a6876"
   },
   "source": [
    "### RandomForest Feature Importance (Calculated based on Impurity of each feature)"
   ]
  },
  {
   "cell_type": "code",
   "execution_count": null,
   "id": "3d0430a2",
   "metadata": {
    "colab": {
     "base_uri": "https://localhost:8080/",
     "height": 282
    },
    "id": "3d0430a2",
    "outputId": "47c13291-dbee-400f-f239-0a9f1b20687d",
    "scrolled": false
   },
   "outputs": [],
   "source": [
    "f_imp=abs(m.feature_importances_)\n",
    "sns.barplot(y=f_imp,x=[i for i in df.columns[:-1]])"
   ]
  }
 ],
 "metadata": {
  "colab": {
   "provenance": []
  },
  "kernelspec": {
   "display_name": "Python 3",
   "language": "python",
   "name": "python3"
  },
  "language_info": {
   "codemirror_mode": {
    "name": "ipython",
    "version": 3
   },
   "file_extension": ".py",
   "mimetype": "text/x-python",
   "name": "python",
   "nbconvert_exporter": "python",
   "pygments_lexer": "ipython3",
   "version": "3.8.5"
  }
 },
 "nbformat": 4,
 "nbformat_minor": 5
}
